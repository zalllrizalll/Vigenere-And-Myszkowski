{
  "cells": [
    {
      "cell_type": "markdown",
      "metadata": {
        "id": "view-in-github",
        "colab_type": "text"
      },
      "source": [
        "<a href=\"https://colab.research.google.com/github/zalllrizalll/Vigenere-And-Myszkowski/blob/main/Vigenere_and_Myszkowski.ipynb\" target=\"_parent\"><img src=\"https://colab.research.google.com/assets/colab-badge.svg\" alt=\"Open In Colab\"/></a>"
      ]
    },
    {
      "cell_type": "markdown",
      "metadata": {
        "id": "uxIcZtuQEQug"
      },
      "source": [
        "**ALGORITMA VIGENERE AND MYSZKOWSKI**"
      ]
    },
    {
      "cell_type": "markdown",
      "metadata": {
        "id": "zOI6vSFR1YEv"
      },
      "source": [
        "**VIGENERE**"
      ]
    },
    {
      "cell_type": "code",
      "execution_count": 179,
      "metadata": {
        "id": "bM8CCidM1WgG"
      },
      "outputs": [],
      "source": [
        "alphabet = \"abcdefghijklmnopqrstuvwxyz\" # Huruf-huruf alfabet dari \"a\" sampai \"z\".\n",
        "\n",
        "array_alphabet = [] # Array kosong dijadikan sebagai wadah untuk menampung data tiap iterasi\n",
        "\n",
        "for i in range (len(alphabet)): # Menggunakan loop for untuk mengiterasi melalui setiap karakter dalam string alphabet.\n",
        "    array_alphabet.append(alphabet[i]) # Memasukkan setiap karakter dari alphabet ke dalam list array_alphabet. Pada setiap iterasi, karakter tersebut ditambahkan ke list."
      ]
    },
    {
      "cell_type": "markdown",
      "source": [
        "Kode tersebut membuat list baru yang disebut array_alphabet, yang berisi setiap huruf dari string alfabet dalam urutan yang sama seperti urutan aslinya, menggunakan loop untuk mengekstrak dan menambahkan setiap huruf ke dalam list tersebut."
      ],
      "metadata": {
        "id": "TABy4wsREr1U"
      }
    },
    {
      "cell_type": "code",
      "execution_count": 180,
      "metadata": {
        "colab": {
          "base_uri": "https://localhost:8080/",
          "height": 52
        },
        "id": "EqyPkQEY1jsI",
        "outputId": "561f5b75-6e19-487f-e571-0f20315ccf3a"
      },
      "outputs": [
        {
          "name": "stdout",
          "output_type": "stream",
          "text": [
            "Masukkan PlainText : THIS PLAINTEXT\n"
          ]
        },
        {
          "output_type": "execute_result",
          "data": {
            "text/plain": [
              "'thisplaintext'"
            ],
            "application/vnd.google.colaboratory.intrinsic+json": {
              "type": "string"
            }
          },
          "metadata": {},
          "execution_count": 180
        }
      ],
      "source": [
        "plainText = input(\"Masukkan PlainText : \") # Input plaintext\n",
        "plainText = plainText.lower() # Ubah plaintext menjadi huruf kecil\n",
        "plainText = plainText.replace(\" \", \"\") # Menghapus spasi pada plainteks\n",
        "plainText # Menampilkan plaintext inputan user"
      ]
    },
    {
      "cell_type": "markdown",
      "source": [
        "Dalam kode tersebut, pengguna diminta untuk menginput teks biasa (PlainText). Setelah itu, teks tersebut diubah menjadi huruf kecil dan dilakukan penghapusan spasi. Hasilnya adalah teks yang telah dinormalisasi, siap untuk diproses lebih lanjut."
      ],
      "metadata": {
        "id": "_lWSWsKiFJfM"
      }
    },
    {
      "cell_type": "code",
      "execution_count": 181,
      "metadata": {
        "colab": {
          "base_uri": "https://localhost:8080/",
          "height": 52
        },
        "id": "VId07c3u1rUO",
        "outputId": "acadc5ab-f0b8-4f39-ae72-f0a642db2b0d"
      },
      "outputs": [
        {
          "name": "stdout",
          "output_type": "stream",
          "text": [
            "Masukkan Key : sony\n"
          ]
        },
        {
          "output_type": "execute_result",
          "data": {
            "text/plain": [
              "'sony'"
            ],
            "application/vnd.google.colaboratory.intrinsic+json": {
              "type": "string"
            }
          },
          "metadata": {},
          "execution_count": 181
        }
      ],
      "source": [
        "key = input(\"Masukkan Key : \") # Input key\n",
        "key = key.lower() # Mengubah key agar menjadi huruf kecil\n",
        "key = key.replace(\" \", \"\") # Menghapus spasi pada kunci\n",
        "key # Menampilkan key inputan user"
      ]
    },
    {
      "cell_type": "markdown",
      "source": [
        "Dalam kode ini, pengguna diminta untuk menginput kunci melalui perintah input. Selanjutnya, kunci tersebut diubah menjadi huruf kecil dan dilakukan penghapusan spasi. Hasilnya adalah kunci yang telah dinormalisasi dan dapat langsung digunakan dalam tahap berikutnya."
      ],
      "metadata": {
        "id": "G_gPKBtZFNpg"
      }
    },
    {
      "cell_type": "code",
      "execution_count": 182,
      "metadata": {
        "colab": {
          "base_uri": "https://localhost:8080/",
          "height": 35
        },
        "id": "MrXhCwH61twf",
        "outputId": "7bf011de-04b3-4ce0-ec0f-176c0931059b"
      },
      "outputs": [
        {
          "output_type": "execute_result",
          "data": {
            "text/plain": [
              "'sonysonysonys'"
            ],
            "application/vnd.google.colaboratory.intrinsic+json": {
              "type": "string"
            }
          },
          "metadata": {},
          "execution_count": 182
        }
      ],
      "source": [
        "# VALIDASI INPUT USER\n",
        "if not plainText: # Validasi inputan jika plaintext kosong\n",
        "    print(\"PlainText Kosong !\")\n",
        "elif not key: # Validasi inputan jika kunci kosong\n",
        "    print(\"Key Kosong !\")\n",
        "else: # Jika plaintext dan kunci tidak kosong\n",
        "    generated_key = \"\"\n",
        "\n",
        "    for i in range(len(plainText)): # Menggunakan loop for untuk mengiterasi melalui setiap karakter dalam plainText.\n",
        "        generated_key += key[i % len(key)] # Menggunakan operator modulus (%) untuk memastikan bahwa indeks yang digunakan untuk mengakses karakter di dalam key tidak melebihi panjang key.\n",
        "\n",
        "generated_key  # Ini membentuk generated_key dengan mengulangi karakter-karakter dari key sesuai dengan panjang plainText."
      ]
    },
    {
      "cell_type": "markdown",
      "source": [
        "Kode di atas melakukan pemeriksaan terhadap input yang diberikan oleh pengguna. Jika teks biasa (`plainText`) atau kunci (`key`) kosong, maka program akan memberikan pesan kesalahan. Namun, jika kedua input terisi, maka kode akan membuat kunci yang disesuaikan dengan panjang teks biasa.\n",
        "\n",
        "Selanjutnya, kode membuat variabel `generated_key` yang kosong awalnya. Selama iterasi dengan menggunakan loop `for`, kode akan mengisi `generated_key` dengan karakter dari kunci (`key`) sesuai dengan indeks modulo panjang kunci (`len(key)`) dalam loop yang akan berjalan sebanyak panjang teks biasa (`len(plainText)`). Hasilnya adalah kunci yang telah dihasilkan dan siap digunakan dalam tahap selanjutnya."
      ],
      "metadata": {
        "id": "8Dltn2O0Fnov"
      }
    },
    {
      "cell_type": "code",
      "execution_count": 183,
      "metadata": {
        "colab": {
          "base_uri": "https://localhost:8080/"
        },
        "id": "cdfYYU-N128f",
        "outputId": "930837a7-4079-4085-f53e-035787e5eeec"
      },
      "outputs": [
        {
          "output_type": "execute_result",
          "data": {
            "text/plain": [
              "[19, 7, 8, 18, 15, 11, 0, 8, 13, 19, 4, 23, 19]"
            ]
          },
          "metadata": {},
          "execution_count": 183
        }
      ],
      "source": [
        "# Generalisasi plainteks\n",
        "pt = [] # Array kosong dijadikan sebagai wadah untuk menampung data tiap iterasi\n",
        "\n",
        "for i in range(len(plainText)): # Menggunakan loop for untuk mengiterasi melalui setiap karakter dalam plainText.\n",
        "    pt.append(array_alphabet.index(plainText[i])) # Memasukan index alphabet plaintext ke pt\n",
        "pt # Menampilkan hasil dari iterasi tiap index alphabet plaintext"
      ]
    },
    {
      "cell_type": "markdown",
      "source": [
        "Kode di atas membentuk sebuah list baru yang disebut `pt` melalui sebuah iterasi. Dalam setiap langkah iterasi, indeks dari masing-masing karakter dalam teks biasa (`plainText`) diambil dari list `array_alphabet` menggunakan fungsi `index()`. Sebagai hasilnya, list `pt` akan berisi indeks yang sesuai dengan urutan alfabet untuk setiap karakter dalam teks biasa."
      ],
      "metadata": {
        "id": "SQlv9wD0GEAs"
      }
    },
    {
      "cell_type": "code",
      "execution_count": 184,
      "metadata": {
        "colab": {
          "base_uri": "https://localhost:8080/"
        },
        "id": "S3Wk1Uct18Th",
        "outputId": "93249516-9c10-47a4-de6f-32b310a44117"
      },
      "outputs": [
        {
          "output_type": "execute_result",
          "data": {
            "text/plain": [
              "[18, 14, 13, 24, 18, 14, 13, 24, 18, 14, 13, 24, 18]"
            ]
          },
          "metadata": {},
          "execution_count": 184
        }
      ],
      "source": [
        "# Generalisasi key\n",
        "ky = [] # Array kosong dijadikan sebagai wadah untuk menampung data tiap iterasi\n",
        "\n",
        "for i in range(len(generated_key)): # Looping menggunakan panjang karakter generated_key\n",
        "    ky.append(array_alphabet.index(generated_key[i])) # Memasukan index alphabet generated_key ke ky\n",
        "ky # Menampilkan hasil dari iterasi tiap index alphabet generated_key"
      ]
    },
    {
      "cell_type": "markdown",
      "source": [
        "Kode tersebut membentuk sebuah list baru bernama `ky` melalui sebuah iterasi. Pada setiap langkah iterasi, indeks dari setiap karakter dalam kunci yang telah dihasilkan (`generated_key`) diambil dari list `array_alphabet` menggunakan fungsi `index()`. Akibatnya, list `ky` akan berisi indeks yang sesuai dengan urutan alfabet untuk masing-masing karakter dalam kunci."
      ],
      "metadata": {
        "id": "CH5sraNhG3f0"
      }
    },
    {
      "cell_type": "code",
      "execution_count": 185,
      "metadata": {
        "colab": {
          "base_uri": "https://localhost:8080/"
        },
        "id": "9dgbptjA182X",
        "outputId": "6db66132-3f0c-4205-936d-6bdefd518f4f"
      },
      "outputs": [
        {
          "output_type": "execute_result",
          "data": {
            "text/plain": [
              "[11, 21, 21, 16, 7, 25, 13, 6, 5, 7, 17, 21, 11]"
            ]
          },
          "metadata": {},
          "execution_count": 185
        }
      ],
      "source": [
        "cipher_index = [] # array kosong dijadikan sebagai wadah untuk menampung data tiap iterasi\n",
        "\n",
        "for i in range(len(plainText)): # Looping menggunakan panjang karakter plaintext\n",
        "    cipher_index.append((pt[i] + ky[i]) % 26) # ITERASI untuk kecocokan setiap elemen\n",
        "cipher_index # Menampilkan hasil cipher_index"
      ]
    },
    {
      "cell_type": "markdown",
      "source": [
        "Kode tersebut membentuk sebuah list baru yang disebut `cipher_index` melalui iterasi. Pada setiap iterasi, indeks dari karakter dalam teks biasa yang sudah dinormalisasi (`pt`) ditambahkan dengan indeks yang sesuai dari kunci (`ky`). Hasil penjumlahan tersebut kemudian diambil modulus 26, sehingga jika nilai yang dihasilkan melebihi 25, akan dipangkas sehingga tetap berada dalam rentang 0 hingga 25. Sebagai hasilnya, list `cipher_index` berisi indeks-indeks yang merepresentasikan teks terenkripsi."
      ],
      "metadata": {
        "id": "GLmdeqAmG6ld"
      }
    },
    {
      "cell_type": "markdown",
      "metadata": {
        "id": "vDwN6iZWEQui"
      },
      "source": [
        "**ENCRYPT TEXT**"
      ]
    },
    {
      "cell_type": "code",
      "execution_count": 186,
      "metadata": {
        "colab": {
          "base_uri": "https://localhost:8080/"
        },
        "id": "Dc2ZvCH91--H",
        "outputId": "91e7d167-8a6a-4f65-dd65-dbdfdf0b20d9"
      },
      "outputs": [
        {
          "output_type": "execute_result",
          "data": {
            "text/plain": [
              "['l', 'v', 'v', 'q', 'h', 'z', 'n', 'g', 'f', 'h', 'r', 'v', 'l']"
            ]
          },
          "metadata": {},
          "execution_count": 186
        }
      ],
      "source": [
        "cipherText = [] # array kosong dijadikan sebagai wadah untuk menampung data tiap iterasi\n",
        "for i in range(len(plainText)): #Menggunakan loop for untuk mengiterasi melalui setiap karakter dalam plainText.\n",
        "    cipherText.append(array_alphabet[cipher_index[i]]) #Memasukkan karakter terenkripsi ke dalam list cipherText. Nilai cipher_index[i] digunakan sebagai indeks untuk mengakses huruf yang sesuai dalam array_alphabet.\n",
        "cipherText # Menampilkan hasil cipherText"
      ]
    },
    {
      "cell_type": "markdown",
      "source": [
        "Kode di atas membuat list baru yang disebut `cipherText` melalui iterasi. Pada setiap langkah iterasi, karakter terenkripsi diambil dari list `array_alphabet` dengan menggunakan indeks yang diperoleh dari list `cipher_index`. Artinya, setiap karakter dalam teks terenkripsi dihasilkan dengan menggantikan karakter asli yang berada pada posisi yang sama dalam alfabet. Sebagai hasilnya, list `cipherText` berisi teks yang telah dienkripsi."
      ],
      "metadata": {
        "id": "jzhI4m11HTJV"
      }
    },
    {
      "cell_type": "code",
      "execution_count": 187,
      "metadata": {
        "id": "IX42ZrFEEQui",
        "outputId": "b0c64604-ff5e-4cbb-ef84-55c69e36435d",
        "colab": {
          "base_uri": "https://localhost:8080/",
          "height": 35
        }
      },
      "outputs": [
        {
          "output_type": "execute_result",
          "data": {
            "text/plain": [
              "'LVVQHZNGFHRVL'"
            ],
            "application/vnd.google.colaboratory.intrinsic+json": {
              "type": "string"
            }
          },
          "metadata": {},
          "execution_count": 187
        }
      ],
      "source": [
        "cipherText = \"\".join(cipherText).upper() # Penggabungan karakter - karakter dalam list menjadi hruuf kapital\n",
        "cipherText # Menampilkan hasil cipherText"
      ]
    },
    {
      "cell_type": "markdown",
      "source": [
        "Kode tersebut menggabungkan karakter-karakter terenkripsi dari list `cipherText` menjadi sebuah string tunggal menggunakan metode `join()`. Setelah itu, seluruh huruf dalam teks terenkripsi diubah menjadi huruf besar melalui metode `upper()`. Dengan demikian, hasil akhirnya adalah sebuah string yang mencerminkan teks terenkripsi, dan semua hurufnya ditampilkan dalam format huruf besar."
      ],
      "metadata": {
        "id": "IMewhzAwHuyq"
      }
    },
    {
      "cell_type": "markdown",
      "metadata": {
        "id": "TekI0ozb2QtJ"
      },
      "source": [
        "**MYSZKOWSKI**"
      ]
    },
    {
      "cell_type": "code",
      "execution_count": 188,
      "metadata": {
        "id": "EPvK7cifEQui",
        "outputId": "43504d68-04e0-42f2-af64-0880f76cb7d6",
        "colab": {
          "base_uri": "https://localhost:8080/",
          "height": 35
        }
      },
      "outputs": [
        {
          "output_type": "execute_result",
          "data": {
            "text/plain": [
              "'LVVQHZNGFHRVL'"
            ],
            "application/vnd.google.colaboratory.intrinsic+json": {
              "type": "string"
            }
          },
          "metadata": {},
          "execution_count": 188
        }
      ],
      "source": [
        "plainText = cipherText # membuat variabel plaintext dengan value dari chiphertext\n",
        "plainText # menampilkan value plaintext"
      ]
    },
    {
      "cell_type": "markdown",
      "source": [
        "Kode tersebut menetapkan variabel `plaintext` dengan nilai yang sama seperti variabel `cipherText`. Artinya, teks awal (`plaintext`) sekarang memuat nilai yang sebelumnya merupakan hasil dari proses enkripsi (`cipherText`)."
      ],
      "metadata": {
        "id": "QC38YX97IBDR"
      }
    },
    {
      "cell_type": "code",
      "execution_count": 189,
      "metadata": {
        "id": "7PqSBU10EQui",
        "outputId": "8d7c0484-e101-4a3e-fb1c-834daaeb5ca7",
        "colab": {
          "base_uri": "https://localhost:8080/",
          "height": 35
        }
      },
      "outputs": [
        {
          "output_type": "execute_result",
          "data": {
            "text/plain": [
              "'sony'"
            ],
            "application/vnd.google.colaboratory.intrinsic+json": {
              "type": "string"
            }
          },
          "metadata": {},
          "execution_count": 189
        }
      ],
      "source": [
        "kunci = key # membuat variabel kunci dengan value dari key\n",
        "kunci # menampilkan value kunci"
      ]
    },
    {
      "cell_type": "markdown",
      "source": [
        "Kode tersebut mengubah nilai variabel `key` ke huruf besar dan hasilnya disimpan dalam variabel baru yang dinamakan `kunci`. Singkatnya, format huruf besar diterapkan pada kunci awal."
      ],
      "metadata": {
        "id": "sYQIM8BEIJPJ"
      }
    },
    {
      "cell_type": "code",
      "execution_count": 190,
      "metadata": {
        "colab": {
          "base_uri": "https://localhost:8080/"
        },
        "id": "dAOkVJoV2BUH",
        "outputId": "69d81f46-3dd7-41d9-b548-67a3b644b1b7"
      },
      "outputs": [
        {
          "output_type": "execute_result",
          "data": {
            "text/plain": [
              "3.25"
            ]
          },
          "metadata": {},
          "execution_count": 190
        }
      ],
      "source": [
        "plaintext_size = len(plainText) #jika plaintext_size = panjang dari plainText yang telah di inputkan\n",
        "kunci_size = len(kunci) #kunci_size = panjang dsri kunci yang telah di inputkan\n",
        "size = plaintext_size / kunci_size #maka size = plaintext_size / kunci_size untuk menampilkan panjang dari pembagian antara plainText dengan kunci\n",
        "size #untuk menampilkan output dari size"
      ]
    },
    {
      "cell_type": "markdown",
      "source": [
        "Kode tersebut menghitung panjang teks biasa (`plaintext_size`) dan panjang kunci (`kunci_size`). Selanjutnya, nilai dari panjang teks biasa dibagi oleh panjang kunci, dan hasilnya disimpan dalam variabel `size`. Dengan demikian, kode tersebut menunjukkan seberapa banyak panjang kunci dibutuhkan untuk mencakup seluruh panjang teks biasa."
      ],
      "metadata": {
        "id": "wqb2sL0LIMTz"
      }
    },
    {
      "cell_type": "code",
      "execution_count": 191,
      "metadata": {
        "id": "zbVgcXsF2d5X"
      },
      "outputs": [],
      "source": [
        "import math # import library math\n",
        "\n",
        "def checkDecimal(plainText, key): #membuat fungsi checkDecimal dengan parameter plainText dan key\n",
        "    rows = 0 #membuat variabel rows bernilai 1\n",
        "    if(len(plainText) % len(key) != 0): #jika panjang plainText di modulus dengan panjang kunci tidak sama dengan 0\n",
        "        rows = math.ceil(len(plainText) / len(key)+1) #maka baris = hasil pembagian antara panjang plainText dengan panjang kunci dibulatkan keatas\n",
        "    else: #jika baris = panjang plainText dibagi panjang kunci ditambah 1\n",
        "        rows = len(plainText) / len(key) + 1\n",
        "    return rows #maka value baris akan dikembalikan"
      ]
    },
    {
      "cell_type": "markdown",
      "source": [
        "Kode tersebut mendefinisikan suatu fungsi yang disebut `checkDecimal`. Fungsi ini menerima dua parameter, yaitu `plainText` dan `key`, dan bertujuan untuk menentukan berapa banyak baris yang diperlukan untuk menyusun teks biasa (`plainText`) dengan membaginya sesuai panjang kunci (`key`). Jika panjang teks tidak dapat dibagi habis oleh panjang kunci, jumlah baris dihitung dengan pembulatan ke atas menggunakan fungsi `math.ceil()`. Sebaliknya, jika panjang teks dapat dibagi habis, jumlah baris dihitung dengan membagi panjang teks dengan panjang kunci dan menambahkan 1. Dengan demikian, hasil akhir adalah jumlah baris yang diperlukan untuk menyusun teks biasa dalam suatu matriks sesuai dengan aturan tersebut."
      ],
      "metadata": {
        "id": "9v9PnIBcIViN"
      }
    },
    {
      "cell_type": "code",
      "execution_count": 192,
      "metadata": {
        "colab": {
          "base_uri": "https://localhost:8080/"
        },
        "id": "hkf-oiwi2h-0",
        "outputId": "4901db56-9f29-46ad-f640-dbb6ff9581b4"
      },
      "outputs": [
        {
          "output_type": "execute_result",
          "data": {
            "text/plain": [
              "5"
            ]
          },
          "metadata": {},
          "execution_count": 192
        }
      ],
      "source": [
        "rows = checkDecimal(plainText, kunci) #variable baris = checkDecimal dengan parameter plainText dan kunci\n",
        "rows #memanggil variable baris untuk menampilkan output baris"
      ]
    },
    {
      "cell_type": "markdown",
      "source": [
        "Kode di atas menggunakan nilai yang dihasilkan dari pemanggilan fungsi `checkDecimal(plaintext, kunci)` untuk menghitung jumlah baris yang diperlukan agar teks biasa (`plaintext`) dapat disusun dalam bentuk matriks dengan membaginya berdasarkan panjang kunci (`kunci`). Hasil perhitungan ini kemudian disimpan dalam variabel `rows`, yang mencerminkan jumlah baris yang dibutuhkan untuk pengaturan matriks berdasarkan panjang kunci yang digunakan."
      ],
      "metadata": {
        "id": "bZyv35YEIf0v"
      }
    },
    {
      "cell_type": "code",
      "source": [
        "unique_keyword = sorted(set(kunci)) #variabel unique_keyword untuk menyimpan nilai urut dari kunci, dan menghapus nilai duplikat dari kunci\n",
        "unique_keyword #untuk menampilkan output dari variabel unique_keyword"
      ],
      "metadata": {
        "colab": {
          "base_uri": "https://localhost:8080/"
        },
        "id": "XKRsD9CvtS_-",
        "outputId": "99c25110-336f-4dc7-8aeb-ab2d4de1f450"
      },
      "execution_count": 193,
      "outputs": [
        {
          "output_type": "execute_result",
          "data": {
            "text/plain": [
              "['n', 'o', 's', 'y']"
            ]
          },
          "metadata": {},
          "execution_count": 193
        }
      ]
    },
    {
      "cell_type": "markdown",
      "source": [
        "Pada kode diatas terdapat replace yang mana berfungsi untuk memberikan spasi pada plainText yang diinputkan. Lalu terdapat variabel unique_keyword untuk menampilkan 1 kali pada kunci yang duplikat"
      ],
      "metadata": {
        "id": "rh7vmfIwJIo2"
      }
    },
    {
      "cell_type": "code",
      "execution_count": 194,
      "metadata": {
        "colab": {
          "base_uri": "https://localhost:8080/"
        },
        "id": "lLso8iRu2mIM",
        "outputId": "31e126cc-19ed-47e1-b916-e029a471e811"
      },
      "outputs": [
        {
          "output_type": "execute_result",
          "data": {
            "text/plain": [
              "{'n': [], 'o': [], 's': [], 'y': []}"
            ]
          },
          "metadata": {},
          "execution_count": 194
        }
      ],
      "source": [
        "keyword_order = {char: [] for char in unique_keyword} # membuat tipe data dictionary, dan menambahkan sebuah list di value\n",
        "keyword_order #menampilkan output dari variabel keyword_order"
      ]
    },
    {
      "cell_type": "markdown",
      "source": [
        "Kode di atas membuat struktur data yang disebut `keyword_order` dengan menggunakan tipe data map. Struktur ini dibangun dengan mengambil karakter-karakter unik dari kunci (`unique_keyword`). Masing-masing karakter dijadikan sebagai kunci dalam map, dan setiap kunci ini terhubung dengan nilai awal berupa list kosong (`[]`). Dengan kata lain, `keyword_order` membentuk suatu map yang memiliki setiap karakter unik dari kunci sebagai kunci dengan nilai awal berupa list kosong."
      ],
      "metadata": {
        "id": "oWUZnM1UJaky"
      }
    },
    {
      "cell_type": "code",
      "execution_count": 195,
      "metadata": {
        "colab": {
          "base_uri": "https://localhost:8080/"
        },
        "id": "If-gZM_12oeE",
        "outputId": "de1aefe2-0dd2-4587-ddae-0e4d195d8215"
      },
      "outputs": [
        {
          "output_type": "execute_result",
          "data": {
            "text/plain": [
              "['s', 'o', 'n', 'y']"
            ]
          },
          "metadata": {},
          "execution_count": 195
        }
      ],
      "source": [
        "original_keyword_order = [char for char in kunci] # tipe data array\n",
        "original_keyword_order #menampilkan output dari variabel original_keyword_order"
      ]
    },
    {
      "cell_type": "markdown",
      "source": [
        "Kode tersebut membentuk struktur data yang disebut `original_keyword_order` menggunakan tipe data array. Struktur ini tercipta dengan menyusun karakter-karakter dari kunci (`kunci`) dalam urutan yang sesuai. Dengan kata lain, `original_keyword_order` merupakan suatu array yang memuat karakter-karakter kunci dalam urutan asli mereka."
      ],
      "metadata": {
        "id": "t3GJmsAiJild"
      }
    },
    {
      "cell_type": "code",
      "execution_count": 196,
      "metadata": {
        "colab": {
          "base_uri": "https://localhost:8080/"
        },
        "id": "uVV28hCo2rjP",
        "outputId": "589c0c62-6452-47c0-f1bf-6d6ac687a9a1"
      },
      "outputs": [
        {
          "output_type": "execute_result",
          "data": {
            "text/plain": [
              "{'n': [1], 'o': [2], 's': [3], 'y': [4]}"
            ]
          },
          "metadata": {},
          "execution_count": 196
        }
      ],
      "source": [
        "for col, char in enumerate(unique_keyword): # Pengulangan melalui karakter unik dalam unique_keyword\n",
        "    keyword_order[char].extend([col + 1] * kunci.count(char)) # Menambahkan nilai value ke dalam dictionary keyword_order dari setiap hitungan karakter yang muncul\n",
        "keyword_order #menampilkan output keyword_order"
      ]
    },
    {
      "cell_type": "markdown",
      "source": [
        "Kode di atas menggunakan loop `for` untuk mengiterasi melalui karakter-karakter unik dalam `unique_keyword`. Pada setiap iterasi, indeks kolom (`col`) dan karakter (`char`) diperoleh menggunakan fungsi `enumerate()`. Kemudian, nilai setiap kunci dalam `keyword_order` diperbarui dengan menambahkan sejumlah nilai. Jumlah ini dihasilkan dari perkalian antara indeks kolom yang ditambah satu (`col + 1`) dengan jumlah kemunculan karakter tersebut dalam kunci (`kunci.count(char)`). Hasil akhirnya adalah struktur data `keyword_order` yang telah diperbarui."
      ],
      "metadata": {
        "id": "H2Fdy80xJq6d"
      }
    },
    {
      "cell_type": "code",
      "execution_count": 197,
      "metadata": {
        "colab": {
          "base_uri": "https://localhost:8080/"
        },
        "id": "X2wSgUYu21FR",
        "outputId": "cad2afc4-786f-4a51-fc14-c042af5e45ca"
      },
      "outputs": [
        {
          "output_type": "execute_result",
          "data": {
            "text/plain": [
              "['3', '2', '1', '4']"
            ]
          },
          "metadata": {},
          "execution_count": 197
        }
      ],
      "source": [
        "key_index = [] # Membuat list baru untuk menampung nilai value dari keyword_order\n",
        "for char in kunci: # Melakukan iterasi untuk setiap karakter dalam variabel 'kunci'.\n",
        "  orders = ', '.join(map(str, keyword_order[char])) # Mengubah data list integer menjadi bentuk string dan menggabungkan elemen-elemen list tersebut dengan tanda koma dan spasi dan mengambil nilai value dari setiap karakter pada keyword_order\n",
        "  key_index.append(orders) # menambahkan nilai orders ke dalam list key_index\n",
        "key_index # menampilkan nilai key_index"
      ]
    },
    {
      "cell_type": "markdown",
      "source": [
        "Kode di atas membentuk list baru bernama `key_index`. Pada setiap iterasi loop, untuk tiap karakter dalam kunci (`kunci`), indeks yang berkaitan dengan karakter tersebut diambil dari struktur data `keyword_order`. Setiap set indeks diubah menjadi string dan disatukan dengan menggunakan tanda koma dan spasi. Sebagai hasilnya, list `key_index` akan berisi string-string yang mencerminkan indeks untuk setiap karakter dalam kunci, sesuai dengan struktur data `keyword_order`."
      ],
      "metadata": {
        "id": "TN2p10DfJ0lX"
      }
    },
    {
      "cell_type": "code",
      "execution_count": 198,
      "metadata": {
        "colab": {
          "base_uri": "https://localhost:8080/"
        },
        "id": "p76nRSQG225l",
        "outputId": "af0425e9-065f-4eac-fdda-7350317fe3f0"
      },
      "outputs": [
        {
          "output_type": "execute_result",
          "data": {
            "text/plain": [
              "['3', '2', '1', '4']"
            ]
          },
          "metadata": {},
          "execution_count": 198
        }
      ],
      "source": [
        "ci = [] # Membuat list baru untuk menyimpan nilai dari keyword_order\n",
        "for i in range(len(kunci)): # Melakukan iterasi dari 0 hingga panjang variabel 'kunci'.\n",
        "  for j in range(1):  # Melakukan iterasi hanya satu kali (j = 0) untuk setiap nilai i.\n",
        "    ci.append(key_index[i][j]) # menambahkan nilai Key key_index dalam list ci\n",
        "ci #menampilkan nilai ci"
      ]
    },
    {
      "cell_type": "markdown",
      "source": [
        "Kode di atas membuat list baru yang disebut `ci`. Dalam proses iterasi, nilai `i` berubah dari 0 hingga panjang kunci (`kunci`). Di dalam setiap iterasi ini, nilai `j` hanya berubah satu kali (yaitu `j` setara dengan 0) untuk setiap nilai `i`. Pada setiap langkah iterasi, kode menambahkan karakter pertama (indeks 0) dari setiap string dalam list `key_index` yang sesuai dengan nilai `i` ke dalam list `ci`. Sebagai hasilnya, list `ci` berisi karakter-karakter pertama dari setiap string dalam `key_index`, yang berkaitan dengan karakter dalam kunci `kunci`."
      ],
      "metadata": {
        "id": "_DYB7iSpKJrr"
      }
    },
    {
      "cell_type": "code",
      "source": [
        "check = [] # Membuat list check untuk menyimpan kunci dan nomor urut kunci\n",
        "check.append(original_keyword_order) # Menambahkan list original_keyword_order kedalam check\n",
        "check.append(ci) # Menambahkan list ci kedalam check\n",
        "check # Menampilkan nilai check"
      ],
      "metadata": {
        "colab": {
          "base_uri": "https://localhost:8080/"
        },
        "id": "6NtnnJ79txkb",
        "outputId": "f10377ff-e250-417e-d108-faabba361dfd"
      },
      "execution_count": 199,
      "outputs": [
        {
          "output_type": "execute_result",
          "data": {
            "text/plain": [
              "[['s', 'o', 'n', 'y'], ['3', '2', '1', '4']]"
            ]
          },
          "metadata": {},
          "execution_count": 199
        }
      ]
    },
    {
      "cell_type": "code",
      "execution_count": 200,
      "metadata": {
        "colab": {
          "base_uri": "https://localhost:8080/"
        },
        "id": "CW_KILFO26yD",
        "outputId": "625913b7-ab67-43fe-9992-7bde360ad44b"
      },
      "outputs": [
        {
          "output_type": "execute_result",
          "data": {
            "text/plain": [
              "[['', '', '', ''],\n",
              " ['', '', '', ''],\n",
              " ['', '', '', ''],\n",
              " ['', '', '', ''],\n",
              " ['', '', '', '']]"
            ]
          },
          "metadata": {},
          "execution_count": 200
        }
      ],
      "source": [
        "matrix = [['' for i in range(len(kunci))] for j in range(rows)] #Membuat sebuah 2d array list dengan nilai '' dan panjang dari array list dari kunci dan nilai rows\n",
        "matrix #menampilkan output dari matrix"
      ]
    },
    {
      "cell_type": "markdown",
      "source": [
        "Kode di atas menciptakan sebuah matriks yang disebut `matrix`. Matriks ini terbentuk dengan mengisi setiap elemennya dengan string kosong (`''`). Jumlah kolom matriks ditentukan oleh panjang kunci (`len(kunci)`), dan jumlah barisnya ditentukan oleh nilai `rows+1`. Dengan kata lain, `matrix` menjadi struktur data yang telah disiapkan sesuai dengan dimensi yang diperlukan."
      ],
      "metadata": {
        "id": "NHDwzBM_KYlV"
      }
    },
    {
      "cell_type": "code",
      "execution_count": 201,
      "metadata": {
        "colab": {
          "base_uri": "https://localhost:8080/"
        },
        "id": "Q7ikNYjA29ID",
        "outputId": "fe992b34-9ec1-4be3-9b74-c4a5115cbbcb"
      },
      "outputs": [
        {
          "output_type": "execute_result",
          "data": {
            "text/plain": [
              "[['3', '2', '1', '4'],\n",
              " ['L', 'V', 'V', 'Q'],\n",
              " ['H', 'Z', 'N', 'G'],\n",
              " ['F', 'H', 'R', 'V'],\n",
              " ['L', '#', '#', '#']]"
            ]
          },
          "metadata": {},
          "execution_count": 201
        }
      ],
      "source": [
        "index = 0 # membuat sebuah variabel int index bernilai 0 dan digunakan untuk iterasi pada for dibawah\n",
        "for i in range(rows): # Melakukan iterasi sebanyak 'rows' kali untuk membentuk baris matriks.\n",
        "  for j in range(len(kunci)): # Melakukan iterasi sebanyak karakter dalam 'kunci' untuk membentuk kolom matriks.\n",
        "    if(i == 0): # Jika ini adalah baris pertama dalam matriks:\n",
        "      matrix[i][j] = ci[j] # Mengisi elemen matriks dengan nilai dari list 'ci'.\n",
        "    else: # Jika ini bukan baris pertama dalam matriks\n",
        "      if(index < len(plainText)): # Jika 'index' kurang dari panjang plaintext:\n",
        "        matrix[i][j] = plainText[index] # Mengisi elemen matriks dengan karakter dari 'plaintext'.\n",
        "        index+=1 # Nilai index bertambah 1\n",
        "      else: # Jika 'index' sudah mencapai akhir dari 'plaintext':\n",
        "        matrix[i][j] = \"#\" # Mengisi elemen matriks dengan #.\n",
        "matrix #menampilkan nilai matrix"
      ]
    },
    {
      "cell_type": "markdown",
      "source": [
        "Kode di atas menggunakan dua perulangan untuk mengisi elemen-elemen matriks yang disebut `matrix`. Perulangan pertama (`i`) digunakan untuk membentuk baris-baris matriks, sedangkan perulangan kedua (`j`) digunakan untuk membentuk kolom-kolom matriks. Pada baris pertama matriks, elemen-elemen diisi dengan nilai dari list `ci`. Untuk baris-baris berikutnya, elemen-elemen diisi dengan karakter-karakter dari teks biasa (`plaintext`) secara berurutan. Jika elemen matriks sudah diisi dengan semua karakter dari teks biasa, elemen-elemen selanjutnya diisi dengan tanda pagar (`#`). Akhirnya, matriks terbentuk yang mencerminkan susunan karakter dari teks biasa berdasarkan panjang kunci."
      ],
      "metadata": {
        "id": "xYX6u5KLK0Y9"
      }
    },
    {
      "cell_type": "code",
      "execution_count": 202,
      "metadata": {
        "colab": {
          "base_uri": "https://localhost:8080/"
        },
        "id": "KFuwTEJd4H7R",
        "outputId": "9e4f7325-ea95-4e9b-a29e-c2d2599ab4e1"
      },
      "outputs": [
        {
          "output_type": "execute_result",
          "data": {
            "text/plain": [
              "['1', '2', '3', '4']"
            ]
          },
          "metadata": {},
          "execution_count": 202
        }
      ],
      "source": [
        "kunci_sort = sorted(set(ci)) #Mengurutkan Set Menjadi List\n",
        "kunci_sort #menampilkan ouput dari kunci_sort"
      ]
    },
    {
      "cell_type": "markdown",
      "source": [
        "Kode di atas membentuk list baru yang diberi nama `kunci_sort` melalui dua langkah pada list `ci`. Pertama, nilai-nilai unik diambil dari list `ci` untuk menghindari adanya duplikasi, dan setelah itu, nilai-nilai tersebut diurutkan sesuai urutan alfabetis menggunakan fungsi `sorted()`. Dengan demikian, `kunci_sort` menyimpan nilai-nilai unik yang telah diurutkan dari list `ci`."
      ],
      "metadata": {
        "id": "m-W1Iu_zLHqZ"
      }
    },
    {
      "cell_type": "markdown",
      "metadata": {
        "id": "GVbXQO07EQuj"
      },
      "source": [
        "**ENCRYPT TEXT**"
      ]
    },
    {
      "cell_type": "code",
      "execution_count": 203,
      "metadata": {
        "id": "EBBo1KyX4Slb",
        "outputId": "d484f170-327a-4886-ed21-95464546a12e",
        "colab": {
          "base_uri": "https://localhost:8080/"
        }
      },
      "outputs": [
        {
          "output_type": "execute_result",
          "data": {
            "text/plain": [
              "['V',\n",
              " 'N',\n",
              " 'R',\n",
              " '#',\n",
              " 'V',\n",
              " 'Z',\n",
              " 'H',\n",
              " '#',\n",
              " 'L',\n",
              " 'H',\n",
              " 'F',\n",
              " 'L',\n",
              " 'Q',\n",
              " 'G',\n",
              " 'V',\n",
              " '#']"
            ]
          },
          "metadata": {},
          "execution_count": 203
        }
      ],
      "source": [
        "cipher = [] # Membuat list cipher untuk menyimpan nilai chipernya\n",
        "index = 0  # membuat sebuah variabel int index bernilai 0 dan digunakan untuk iterasi pada for dibawah\n",
        "for i in range(len(kunci_sort)): # Melakukan iterasi sebanyak panjang kunci_sort\n",
        "  for j in range(1,rows): # Iterasi tiap baris dimulai dari baris kedua dimulai dari index 1\n",
        "    for k in range(len(kunci)):  # Iterasi kolom sebanyak panjang kunci\n",
        "      if(matrix[0][k] == kunci_sort[i]): # Jika karakter dalam baris pertama matriks sama dengan karakter dalam 'kunci_sort'.\n",
        "        if(matrix[j][k] == \" \"): # Jika elemen matriks pada posisi ini adalah spasi.\n",
        "          cipher.append('') # Menambahkan nilai '' kedalam list chiper\n",
        "        else:\n",
        "          cipher.append(matrix[j][k]) # Menambahkan karakter dari setiap iterasi matriks ke dalam 'cipher'.\n",
        "cipher #Menampilkan hasil chiper"
      ]
    },
    {
      "cell_type": "markdown",
      "source": [
        "Kode di atas menghasilkan list baru yang disebut `cipher`. Dalam proses iterasi, untuk setiap karakter dalam `kunci_sort`, dilakukan perulangan untuk setiap baris (dimulai dari baris kedua) dan kolom matriks. Jika karakter dalam baris pertama matriks sama dengan karakter dalam `kunci_sort`, karakter dari matriks pada posisi tersebut ditambahkan ke dalam `cipher`. Jika karakter tersebut adalah spasi, maka spasi tersebut diabaikan. Dengan demikian, `cipher` berisi karakter-karakter yang diambil dari matriks sesuai dengan aturan tertentu berdasarkan urutan karakter unik dari `kunci_sort`."
      ],
      "metadata": {
        "id": "plpJuoTJLi8X"
      }
    },
    {
      "cell_type": "code",
      "execution_count": 204,
      "metadata": {
        "colab": {
          "base_uri": "https://localhost:8080/",
          "height": 35
        },
        "id": "tWjhaKGZ4WVI",
        "outputId": "aa904e4c-1fcd-4b65-f125-fbf40d7d0842"
      },
      "outputs": [
        {
          "output_type": "execute_result",
          "data": {
            "text/plain": [
              "'VNR#VZH#LHFLQGV#'"
            ],
            "application/vnd.google.colaboratory.intrinsic+json": {
              "type": "string"
            }
          },
          "metadata": {},
          "execution_count": 204
        }
      ],
      "source": [
        "cipher_text = ''.join(cipher) #Membuat string tunggal dengan menggabungkan elemen-elemen dalam list 'cipher'\n",
        "cipher_text #Menampilkan output dari cipher_text"
      ]
    },
    {
      "cell_type": "markdown",
      "source": [
        "Kode tersebut menggabungkan karakter-karakter hasil enkripsi dari list `cipher` menjadi suatu string tunggal dengan menggunakan metode `join()`. Oleh karena itu, `cipher_text` berisi hasil akhir dari proses enkripsi, yang merupakan string yang dibentuk dari karakter-karakter yang ada dalam list `cipher`."
      ],
      "metadata": {
        "id": "8xcxPkcXLrXM"
      }
    },
    {
      "cell_type": "code",
      "execution_count": 205,
      "metadata": {
        "id": "x4RdmRB95Ccl",
        "outputId": "4e7eeeb1-2a3c-4444-d4fc-1c38c15b89a7",
        "colab": {
          "base_uri": "https://localhost:8080/"
        }
      },
      "outputs": [
        {
          "output_type": "execute_result",
          "data": {
            "text/plain": [
              "[['3', '2', '1', '4'],\n",
              " ['', '', '', ''],\n",
              " ['', '', '', ''],\n",
              " ['', '', '', ''],\n",
              " ['', '', '', '']]"
            ]
          },
          "metadata": {},
          "execution_count": 205
        }
      ],
      "source": [
        "# Menginisialisasi matriks dekripsi\n",
        "matrix_cipher = [['' for i in range(len(kunci))] for j in range(rows)] #Membuat sebuah 2d array list dengan nilai '' dan panjang dari array list dari kunci dan nilai rows\n",
        "for i in range(rows): # iterasi baris sebanyak rows\n",
        "  for j in range(len(kunci)): # iterasi kolom sebanyak panjang kunci\n",
        "    if(i == 0): #jika nilai i sama dengan 0\n",
        "      matrix_cipher[i][j] = ci[j] # baris pertama diisi dengan kunci\n",
        "matrix_cipher #Menampilkan matrix"
      ]
    },
    {
      "cell_type": "markdown",
      "source": [
        "Kode di atas menciptakan suatu matriks yang diberi nama `matrix`. Dalam proses inisialisasi, setiap elemen dalam matriks diatur sebagai string kosong (`''`). Jumlah kolom dalam matriks sesuai dengan panjang kunci (`len(kunci)`), dan jumlah baris ditentukan oleh nilai `rows+1`. Dengan kata lain, `matrix` merupakan suatu struktur data yang baru terbentuk dan telah disiapkan sesuai dengan dimensi yang diperlukan."
      ],
      "metadata": {
        "id": "7svHf6jmL2MI"
      }
    },
    {
      "cell_type": "code",
      "execution_count": 206,
      "metadata": {
        "id": "Qk-c70NrEQuj",
        "outputId": "be9657e1-d05a-4671-addf-bd2407db1b98",
        "colab": {
          "base_uri": "https://localhost:8080/"
        }
      },
      "outputs": [
        {
          "output_type": "execute_result",
          "data": {
            "text/plain": [
              "[['3', '2', '1', '4'],\n",
              " ['L', 'V', 'V', 'Q'],\n",
              " ['H', 'Z', 'N', 'G'],\n",
              " ['F', 'H', 'R', 'V'],\n",
              " ['L', '#', '#', '#']]"
            ]
          },
          "metadata": {},
          "execution_count": 206
        }
      ],
      "source": [
        "# Mengisi matriks dengan blok-blok teks enkripsi\n",
        "indx = 0  # membuat sebuah variabel int index bernilai 0 dan digunakan untuk iterasi pada for dibawah\n",
        "for i in range(len(kunci_sort)): # iterasi baris sebanyak panjang kunci_sort\n",
        "  for j in range(1,rows): # iterasi baris sebanyak rows dan dimulai dari index 1\n",
        "    for k in range(len(kunci)): # iterasi kolom sebanyak panjang kunci\n",
        "      if(matrix_cipher[0][k] == kunci_sort[i]): # jika nilai matrix baris pertama dan nilai kolom sama dengan nilai kunci_sort\n",
        "        if(indx < len(cipher_text)): # jika nilai indx kurang dari panjang cipher_text\n",
        "          matrix_cipher[j][k] = cipher_text[indx] # maka nilai setiap iterasi matrix_cipher diubah menjadi nilai dari iterasi setiap chiper_text\n",
        "          indx+=1 #nilai indx ditambah 1\n",
        "matrix_cipher #menampilkan nilai matrix_chiper"
      ]
    },
    {
      "cell_type": "markdown",
      "source": [
        "Kode di atas berfungsi untuk mengisi elemen-elemen dalam matriks yang disebut `matrix`. Pada setiap iterasi, baris-baris matriks dibentuk sebanyak `rows+1` kali, dan dalam setiap baris, terdapat iterasi tambahan untuk membentuk kolom-kolom matriks sejumlah karakter dalam kunci (`kunci`). Pada baris pertama matriks, elemen-elemen diisi dengan nilai dari list `ci`. Untuk baris-baris berikutnya, elemen-elemen diisi dengan karakter-karakter dari teks terenkripsi (`cipher_text`) secara berurutan. Jika elemen matriks sudah diisi dengan semua karakter dari teks terenkripsi, elemen-elemen selanjutnya diisi dengan tanda pagar (`#`). Dengan demikian, `matrix` menjadi representasi matriks dari penyusunan karakter-karakter teks terenkripsi berdasarkan panjang kunci."
      ],
      "metadata": {
        "id": "LkpDFNRMMNsJ"
      }
    },
    {
      "cell_type": "markdown",
      "source": [
        "Kode di atas melakukan penyesuaian antara karakter-karakter unik dari kunci yang telah diurutkan (`kunci_sort`) dengan elemen-elemen matriks yang telah terisi sebelumnya. Dalam iterasi, karakter-karakter unik dari kunci digunakan untuk mencocokkan kolom-kolom matriks yang disusun pada baris pertama matriks. Jika terjadi kesesuaian antara karakter unik dan elemen-elemen matriks pada baris pertama, maka karakter-karakter dari teks terenkripsi (`cipher_text`) diisikan ke dalam matriks pada baris-baris berikutnya secara berurutan. Dengan cara ini, matriks `matrix` diperbarui dengan hasil penyesuaian tersebut."
      ],
      "metadata": {
        "id": "eKQGYTsFMTlR"
      }
    },
    {
      "cell_type": "markdown",
      "source": [
        "Kode di atas meminta untuk menampilkan matriks hasil dari proses enkripsi, yang mencerminkan susunan karakter-karakter dari teks terenkripsi. Struktur matriks ini dipengaruhi oleh panjang kunci dan pencocokan dengan karakter-karakter unik dari kunci yang telah diurutkan."
      ],
      "metadata": {
        "id": "QJt6o43yMmSJ"
      }
    },
    {
      "cell_type": "markdown",
      "metadata": {
        "id": "2NKqeE8R5mhS"
      },
      "source": [
        "**DECRYPT TEXT**"
      ]
    },
    {
      "cell_type": "code",
      "execution_count": 207,
      "metadata": {
        "id": "_F9pheF85jMl",
        "colab": {
          "base_uri": "https://localhost:8080/"
        },
        "outputId": "ea5d809d-76dd-4cae-aa79-6a9ae11b7d58"
      },
      "outputs": [
        {
          "output_type": "execute_result",
          "data": {
            "text/plain": [
              "['L',\n",
              " 'V',\n",
              " 'V',\n",
              " 'Q',\n",
              " 'H',\n",
              " 'Z',\n",
              " 'N',\n",
              " 'G',\n",
              " 'F',\n",
              " 'H',\n",
              " 'R',\n",
              " 'V',\n",
              " 'L',\n",
              " '#',\n",
              " '#',\n",
              " '#']"
            ]
          },
          "metadata": {},
          "execution_count": 207
        }
      ],
      "source": [
        "# Mendekripsi teks\n",
        "decrypted_text = [] #membuat list decrypted_text untuk menampung hasil dekripsi\n",
        "for i in range(1, rows): # iterasi baris sebanyak rows dan dimulai dari index 1\n",
        "    for j in range(len(kunci)): # iterasi kolom sebanyak panjang kunci\n",
        "        decrypted_text.append(matrix_cipher[i][j]) # menambahkan nilai setiap iterasi pada matrix_cipher ke dalam list decrypted_text\n",
        "decrypted_text # menampilkan nilai decrypted_text"
      ]
    },
    {
      "cell_type": "markdown",
      "source": [
        "Kode di atas melakukan perulangan melalui baris-baris matriks, dimulai dari baris kedua hingga baris terakhir (`rows+1`). Pada setiap iterasi, karakter-karakter dari matriks pada baris tersebut ditambahkan ke dalam list `decrypted_text`. Dengan kata lain, `decrypted_text` menjadi kumpulan karakter yang diambil dari matriks sesuai dengan susunan baris-baris matriks, menghasilkan teks yang telah di-dekripsi."
      ],
      "metadata": {
        "id": "U_u-ZN_PM8UV"
      }
    },
    {
      "cell_type": "code",
      "execution_count": 208,
      "metadata": {
        "colab": {
          "base_uri": "https://localhost:8080/",
          "height": 35
        },
        "id": "fas9QtbC5qm-",
        "outputId": "3b1c8dd9-7844-4aa8-e411-547c4168029a"
      },
      "outputs": [
        {
          "output_type": "execute_result",
          "data": {
            "text/plain": [
              "'lvvqhzngfhrvl'"
            ],
            "application/vnd.google.colaboratory.intrinsic+json": {
              "type": "string"
            }
          },
          "metadata": {},
          "execution_count": 208
        }
      ],
      "source": [
        "result = \"\".join(decrypted_text) # Menggabungkan elemen-elemen dalam list 'decrypted_text' menjadi satu string tanpa pemisah\n",
        "decrypted_sentence = result.replace(\"#\", \"\") # Menghapus karakter '#' dari string 'result' dan menyimpannya dalam variabel 'decrypted_sentence'\n",
        "decrypted_sentence = decrypted_sentence.lower() # Value dari decrypted_sentence diubah ke bentuk lowercase\n",
        "decrypted_sentence # Menampilkan value dari decrypted_sentence"
      ]
    },
    {
      "cell_type": "markdown",
      "source": [
        "Kode di atas mengubah list `decrypted_text`, yang memuat karakter-karakter hasil dekripsi, menjadi string tunggal dengan menggunakan metode `join()`. Kemudian, tanda pagar (`#`) dihilangkan dari string hasil dekripsi, dan semua karakter diubah menjadi huruf kecil menggunakan metode `lower()`. Dengan demikian, diperoleh kalimat yang telah di-dekripsi dan dinormalisasi."
      ],
      "metadata": {
        "id": "Ntl2wEQKNIIL"
      }
    },
    {
      "cell_type": "code",
      "execution_count": 209,
      "metadata": {
        "colab": {
          "base_uri": "https://localhost:8080/"
        },
        "id": "qo4ygYT86Zzh",
        "outputId": "73e61489-e646-4467-a0e4-e4ce642ca481"
      },
      "outputs": [
        {
          "output_type": "execute_result",
          "data": {
            "text/plain": [
              "[11, 21, 21, 16, 7, 25, 13, 6, 5, 7, 17, 21, 11]"
            ]
          },
          "metadata": {},
          "execution_count": 209
        }
      ],
      "source": [
        "decrypt_myszk = [] # membuat sebuah array kosong untuk menampung data tiap iterasi\n",
        "\n",
        "for i in range(len(plainText)): # iterasi nilai i hingga panjang dari karakter plainText\n",
        "    decrypt_myszk.append(array_alphabet.index(decrypted_sentence[i])) # nilai karakter pada posisi i dari decrypted_sentence dienkripsi menggunakan indeks alfabetnya dan hasil disimpan dalam array decrypt_myszk.\n",
        "decrypt_myszk # menampilkan value dari decrypt_myszk"
      ]
    },
    {
      "cell_type": "markdown",
      "source": [
        "Kode di atas melibatkan iterasi melalui karakter-karakter dalam kalimat yang sudah di-dekripsi (`decrypted_sentence`). Pada setiap langkah iterasi, indeks dari tiap karakter dalam alfabet (`array_alphabet`) diambil dan dimasukkan ke dalam list `decrypt_myzsk`. Jadi, `decrypt_myzsk` memuat indeks-indeks yang mencerminkan posisi masing-masing karakter dalam alfabet setelah melalui proses dekripsi."
      ],
      "metadata": {
        "id": "wLLXPZW2NZ24"
      }
    },
    {
      "cell_type": "code",
      "execution_count": 210,
      "metadata": {
        "colab": {
          "base_uri": "https://localhost:8080/"
        },
        "id": "Fe6W7n_G57qE",
        "outputId": "b625daca-cc64-4f9e-fa51-0963de2f830a"
      },
      "outputs": [
        {
          "output_type": "execute_result",
          "data": {
            "text/plain": [
              "[19, 7, 8, 18, 15, 11, 0, 8, 13, 19, 4, 23, 19]"
            ]
          },
          "metadata": {},
          "execution_count": 210
        }
      ],
      "source": [
        "decrypt_index = [] # array kosong dijadikan sebagai wadah untuk menampung data tiap iterasi\n",
        "\n",
        "for i in range(len(cipher_index)): # iterasi data panjang cipher_index\n",
        "    decrypt_index.append((decrypt_myszk[i] - ky[i]) % 26) # iterasi untuk mengembalikan elemen tiap indeks\n",
        "decrypt_index # menampilkan hasil decrypt_index"
      ]
    },
    {
      "cell_type": "markdown",
      "source": [
        "Kode di atas melibatkan iterasi melalui indeks-indeks yang dihasilkan setelah proses enkripsi (`cipher_index`). Pada setiap langkah iterasi, nilai indeks dari masing-masing karakter setelah dekripsi (`decrypt_myzsk`) dikurangkan dengan nilai dari kunci (`ky`) yang sesuai, kemudian hasilnya dihitung menggunakan operasi modulus 26. Dengan demikian, `decrypt_index` menyimpan indeks-indeks yang mencerminkan posisi masing-masing karakter setelah melewati proses dekripsi."
      ],
      "metadata": {
        "id": "c0xqEcx_Nb9Z"
      }
    },
    {
      "cell_type": "code",
      "execution_count": 211,
      "metadata": {
        "colab": {
          "base_uri": "https://localhost:8080/"
        },
        "id": "ODSNhcfZ6Liw",
        "outputId": "fa45d724-a66d-42be-86f4-a87ac5fe747e"
      },
      "outputs": [
        {
          "output_type": "execute_result",
          "data": {
            "text/plain": [
              "['t', 'h', 'i', 's', 'p', 'l', 'a', 'i', 'n', 't', 'e', 'x', 't']"
            ]
          },
          "metadata": {},
          "execution_count": 211
        }
      ],
      "source": [
        "decryptText = [] # array kosong dijadikan sebagai wadah untuk menampung data tiap iterasi\n",
        "\n",
        "for i in range(len(decrypt_index)): # iterasi nilai i hingga panjang dari karakter decrypt_index\n",
        "    decryptText.append(array_alphabet[decrypt_index[i]])  # iterasi melalui setiap elemen (indeks) dari decrypt_index untuk mencari posisi dari sebuah alfabet\n",
        "decryptText # menampilkan hasil dari decryptText"
      ]
    },
    {
      "cell_type": "markdown",
      "source": [
        "Kode di atas melibatkan perulangan melalui indeks-indeks yang dihasilkan setelah proses dekripsi (`decrypt_index`). Pada setiap langkah perulangan, nilai indeks digunakan untuk mengambil karakter yang sesuai dari alfabet (`array_alphabet`), dan karakter-karakter tersebut ditambahkan ke dalam list `decryptText`. Dengan demikian, `decryptText` berisi karakter-karakter yang mencerminkan hasil dari proses dekripsi."
      ],
      "metadata": {
        "id": "suMN_9ctNqpi"
      }
    },
    {
      "cell_type": "code",
      "execution_count": 212,
      "metadata": {
        "colab": {
          "base_uri": "https://localhost:8080/",
          "height": 35
        },
        "id": "2q5jmbX_6yMH",
        "outputId": "e91c6e63-f306-477d-83fe-3ab032a9d959"
      },
      "outputs": [
        {
          "output_type": "execute_result",
          "data": {
            "text/plain": [
              "'THISPLAINTEXT'"
            ],
            "application/vnd.google.colaboratory.intrinsic+json": {
              "type": "string"
            }
          },
          "metadata": {},
          "execution_count": 212
        }
      ],
      "source": [
        "result = \"\".join(decryptText).upper() # Menggabungkan tiap elemen array dari decryptText dan membuat tiap karakter tersebut menjadi uppercase\n",
        "result # Menampilkan hasil"
      ]
    },
    {
      "cell_type": "markdown",
      "source": [
        "Kode di atas mengubah list `decryptText` yang berisi karakter-karakter hasil dekripsi menjadi string tunggal dengan menggunakan metode `join()`. Setelah itu, string hasil dekripsi diubah menjadi huruf kapital menggunakan metode `upper()`. Dengan demikian, didapatkan sebuah kalimat yang telah di-dekripsi dan siap untuk ditampilkan dalam huruf besar."
      ],
      "metadata": {
        "id": "OMX4WmsQNsk4"
      }
    },
    {
      "cell_type": "code",
      "source": [
        "# Memisahkan kata-kata berdasarkan huruf kapital\n",
        "words = [] # array kosong dijadikan sebagai wadah untuk menampung data tiap iterasi\n",
        "current_word = '' # Membuat string kosong untuk menyimpan kata saat ini\n",
        "for char in result: # Melakukan iterasi pada setiap karakter dalam variabel result\n",
        "    if char.isupper() and current_word: # Jika karakter adalah huruf kapital dan current_word tidak kosong\n",
        "        words.append(current_word) # tambahkan current_word ke dalam array words\n",
        "        current_word = char # Mulai kata baru dengan huruf kapital yang ditemukan\n",
        "    else:\n",
        "        current_word += char # Jika tidak memenuhi kondisi pertama, tambahkan karakter tersebut ke dalam current_word\n",
        "if current_word:\n",
        "    words.append(current_word) # Menambahkan kata terakhir ke dalam array words jika masih ada kata yang tersisa dalam current_word\n",
        "words # Menampilkan value words"
      ],
      "metadata": {
        "colab": {
          "base_uri": "https://localhost:8080/"
        },
        "id": "FqrHEvID3P17",
        "outputId": "3cb97869-6f43-4b63-d750-d7f4df303fda"
      },
      "execution_count": 217,
      "outputs": [
        {
          "output_type": "execute_result",
          "data": {
            "text/plain": [
              "['T', 'H', 'I', 'S', 'P', 'L', 'A', 'I', 'N', 'T', 'E', 'X', 'T']"
            ]
          },
          "metadata": {},
          "execution_count": 217
        }
      ]
    },
    {
      "cell_type": "code",
      "source": [
        "# Menggabungkan karakter menjadi kalimat dengan spasi\n",
        "decrypted_text_with_spaces = ' '.join(words)\n",
        "decrypted_text_with_spaces"
      ],
      "metadata": {
        "colab": {
          "base_uri": "https://localhost:8080/",
          "height": 35
        },
        "id": "n_eD4L--3XMK",
        "outputId": "e152c12c-5fad-4cad-d7bb-5f11f8abeab5"
      },
      "execution_count": 214,
      "outputs": [
        {
          "output_type": "execute_result",
          "data": {
            "text/plain": [
              "'T H I S P L A I N T E X T'"
            ],
            "application/vnd.google.colaboratory.intrinsic+json": {
              "type": "string"
            }
          },
          "metadata": {},
          "execution_count": 214
        }
      ]
    }
  ],
  "metadata": {
    "colab": {
      "provenance": [],
      "include_colab_link": true
    },
    "kernelspec": {
      "display_name": "Python 3",
      "name": "python3"
    },
    "language_info": {
      "codemirror_mode": {
        "name": "ipython",
        "version": 3
      },
      "file_extension": ".py",
      "mimetype": "text/x-python",
      "name": "python",
      "nbconvert_exporter": "python",
      "pygments_lexer": "ipython3",
      "version": "3.11.6"
    }
  },
  "nbformat": 4,
  "nbformat_minor": 0
}