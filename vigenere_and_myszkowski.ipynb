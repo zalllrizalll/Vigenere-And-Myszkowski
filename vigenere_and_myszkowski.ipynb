{
  "cells": [
    {
      "cell_type": "markdown",
      "metadata": {},
      "source": [
        "**ALGORITMA VIGENERE AND MYSZKOWSKI**"
      ]
    },
    {
      "cell_type": "markdown",
      "metadata": {
        "id": "zOI6vSFR1YEv"
      },
      "source": [
        "**VIGENERE**"
      ]
    },
    {
      "cell_type": "code",
      "execution_count": 284,
      "metadata": {
        "id": "bM8CCidM1WgG"
      },
      "outputs": [],
      "source": [
        "alphabet = \"abcdefghijklmnopqrstuvwxyz\"\n",
        "\n",
        "array_alphabet = []\n",
        "\n",
        "for i in range (len(alphabet)):\n",
        "    array_alphabet.append(alphabet[i])"
      ]
    },
    {
      "cell_type": "code",
      "execution_count": 285,
      "metadata": {
        "colab": {
          "base_uri": "https://localhost:8080/",
          "height": 35
        },
        "id": "EqyPkQEY1jsI",
        "outputId": "68856693-a96a-4e31-e603-000ed3ddd169"
      },
      "outputs": [
        {
          "data": {
            "text/plain": [
              "'thisplaintext'"
            ]
          },
          "execution_count": 285,
          "metadata": {},
          "output_type": "execute_result"
        }
      ],
      "source": [
        "plainText = input(\"Masukkan PlainText : \")\n",
        "plainText = plainText.lower()\n",
        "plainText = plainText.replace(\" \", \"\")\n",
        "plainText"
      ]
    },
    {
      "cell_type": "code",
      "execution_count": 286,
      "metadata": {
        "colab": {
          "base_uri": "https://localhost:8080/",
          "height": 35
        },
        "id": "VId07c3u1rUO",
        "outputId": "53af89c3-4809-4036-d4d4-c73b88c2b257"
      },
      "outputs": [
        {
          "data": {
            "text/plain": [
              "'sony'"
            ]
          },
          "execution_count": 286,
          "metadata": {},
          "output_type": "execute_result"
        }
      ],
      "source": [
        "key = input(\"Masukkan Key : \")\n",
        "key = key.lower()\n",
        "key = key.replace(\" \", \"\")\n",
        "key"
      ]
    },
    {
      "cell_type": "code",
      "execution_count": 287,
      "metadata": {
        "colab": {
          "base_uri": "https://localhost:8080/",
          "height": 35
        },
        "id": "MrXhCwH61twf",
        "outputId": "5942d627-fa11-4830-c678-ada03673a398"
      },
      "outputs": [
        {
          "data": {
            "text/plain": [
              "'sonysonysonys'"
            ]
          },
          "execution_count": 287,
          "metadata": {},
          "output_type": "execute_result"
        }
      ],
      "source": [
        "# VALIDASI INPUT USER\n",
        "if not plainText:\n",
        "    print(\"PlainText Kosong !\")\n",
        "elif not key:\n",
        "    print(\"Key Kosong !\")\n",
        "else:\n",
        "    generated_key = \"\"\n",
        "\n",
        "    for i in range(len(plainText)):\n",
        "        generated_key += key[i % len(key)]\n",
        "generated_key"
      ]
    },
    {
      "cell_type": "code",
      "execution_count": 288,
      "metadata": {
        "colab": {
          "base_uri": "https://localhost:8080/"
        },
        "id": "cdfYYU-N128f",
        "outputId": "eefb08e5-5e31-439b-d510-298f720a153c"
      },
      "outputs": [
        {
          "data": {
            "text/plain": [
              "[19, 7, 8, 18, 15, 11, 0, 8, 13, 19, 4, 23, 19]"
            ]
          },
          "execution_count": 288,
          "metadata": {},
          "output_type": "execute_result"
        }
      ],
      "source": [
        "pt = []\n",
        "\n",
        "for i in range(len(plainText)):\n",
        "    pt.append(array_alphabet.index(plainText[i]))\n",
        "pt"
      ]
    },
    {
      "cell_type": "code",
      "execution_count": 289,
      "metadata": {
        "colab": {
          "base_uri": "https://localhost:8080/"
        },
        "id": "S3Wk1Uct18Th",
        "outputId": "6b4a72d6-d23e-4429-b442-1484a173bb1a"
      },
      "outputs": [
        {
          "data": {
            "text/plain": [
              "[18, 14, 13, 24, 18, 14, 13, 24, 18, 14, 13, 24, 18]"
            ]
          },
          "execution_count": 289,
          "metadata": {},
          "output_type": "execute_result"
        }
      ],
      "source": [
        "ky = []\n",
        "\n",
        "for i in range(len(generated_key)):\n",
        "    ky.append(array_alphabet.index(generated_key[i]))\n",
        "ky"
      ]
    },
    {
      "cell_type": "code",
      "execution_count": 290,
      "metadata": {
        "colab": {
          "base_uri": "https://localhost:8080/"
        },
        "id": "9dgbptjA182X",
        "outputId": "d864f1ef-7710-475a-e41e-54acfc6e8f6e"
      },
      "outputs": [
        {
          "data": {
            "text/plain": [
              "[11, 21, 21, 16, 7, 25, 13, 6, 5, 7, 17, 21, 11]"
            ]
          },
          "execution_count": 290,
          "metadata": {},
          "output_type": "execute_result"
        }
      ],
      "source": [
        "cipher_index = []\n",
        "\n",
        "for i in range(len(plainText)):\n",
        "    cipher_index.append((pt[i] + ky[i]) % 26)\n",
        "cipher_index"
      ]
    },
    {
      "cell_type": "markdown",
      "metadata": {},
      "source": [
        "**ENCRYPT TEXT**"
      ]
    },
    {
      "cell_type": "code",
      "execution_count": 291,
      "metadata": {
        "colab": {
          "base_uri": "https://localhost:8080/"
        },
        "id": "Dc2ZvCH91--H",
        "outputId": "a6c81756-bab3-4db2-a6ce-45709233faff"
      },
      "outputs": [
        {
          "data": {
            "text/plain": [
              "['l', 'v', 'v', 'q', 'h', 'z', 'n', 'g', 'f', 'h', 'r', 'v', 'l']"
            ]
          },
          "execution_count": 291,
          "metadata": {},
          "output_type": "execute_result"
        }
      ],
      "source": [
        "cipherText = []\n",
        "for i in range(len(plainText)):\n",
        "    cipherText.append(array_alphabet[cipher_index[i]])\n",
        "cipherText"
      ]
    },
    {
      "cell_type": "code",
      "execution_count": 292,
      "metadata": {},
      "outputs": [
        {
          "data": {
            "text/plain": [
              "'LVVQHZNGFHRVL'"
            ]
          },
          "execution_count": 292,
          "metadata": {},
          "output_type": "execute_result"
        }
      ],
      "source": [
        "cipherText = \"\".join(cipherText).upper()\n",
        "cipherText"
      ]
    },
    {
      "cell_type": "markdown",
      "metadata": {
        "id": "TekI0ozb2QtJ"
      },
      "source": [
        "**MYSZKOWSKI**"
      ]
    },
    {
      "cell_type": "code",
      "execution_count": 293,
      "metadata": {},
      "outputs": [
        {
          "data": {
            "text/plain": [
              "'LVVQHZNGFHRVL'"
            ]
          },
          "execution_count": 293,
          "metadata": {},
          "output_type": "execute_result"
        }
      ],
      "source": [
        "plaintext = cipherText\n",
        "plaintext"
      ]
    },
    {
      "cell_type": "code",
      "execution_count": 294,
      "metadata": {},
      "outputs": [
        {
          "data": {
            "text/plain": [
              "'SONY'"
            ]
          },
          "execution_count": 294,
          "metadata": {},
          "output_type": "execute_result"
        }
      ],
      "source": [
        "kunci = key.upper()\n",
        "kunci"
      ]
    },
    {
      "cell_type": "code",
      "execution_count": 295,
      "metadata": {
        "colab": {
          "base_uri": "https://localhost:8080/"
        },
        "id": "dAOkVJoV2BUH",
        "outputId": "55ec1165-02f5-49ca-8865-ace7cdc09ec8"
      },
      "outputs": [
        {
          "data": {
            "text/plain": [
              "3.25"
            ]
          },
          "execution_count": 295,
          "metadata": {},
          "output_type": "execute_result"
        }
      ],
      "source": [
        "plaintext_size = len(plaintext)\n",
        "kunci_size = len(kunci)\n",
        "size = plaintext_size / kunci_size\n",
        "size"
      ]
    },
    {
      "cell_type": "code",
      "execution_count": 296,
      "metadata": {
        "id": "zbVgcXsF2d5X"
      },
      "outputs": [],
      "source": [
        "import math\n",
        "\n",
        "def checkDecimal(plainText, key):\n",
        "    rows = 0\n",
        "    if(len(plainText) % len(key) != 0):\n",
        "        rows = math.ceil(len(plainText) / len(key))\n",
        "    else:\n",
        "        rows = len(plainText) / len(key) + 1\n",
        "    return rows"
      ]
    },
    {
      "cell_type": "code",
      "execution_count": 297,
      "metadata": {
        "colab": {
          "base_uri": "https://localhost:8080/"
        },
        "id": "hkf-oiwi2h-0",
        "outputId": "f65cf7e2-e826-4ad4-9c6c-8b751a618f09"
      },
      "outputs": [
        {
          "data": {
            "text/plain": [
              "4"
            ]
          },
          "execution_count": 297,
          "metadata": {},
          "output_type": "execute_result"
        }
      ],
      "source": [
        "rows = checkDecimal(plaintext, kunci)\n",
        "rows"
      ]
    },
    {
      "cell_type": "code",
      "execution_count": 298,
      "metadata": {
        "colab": {
          "base_uri": "https://localhost:8080/"
        },
        "id": "4vemG6vX2kB6",
        "outputId": "067b0e18-810f-44a6-9240-da9ac87e8ab7"
      },
      "outputs": [
        {
          "data": {
            "text/plain": [
              "['N', 'O', 'S', 'Y']"
            ]
          },
          "execution_count": 298,
          "metadata": {},
          "output_type": "execute_result"
        }
      ],
      "source": [
        "plaintext = plaintext.replace(\" \",\"\")\n",
        "unique_keyword = sorted(set(kunci))\n",
        "unique_keyword"
      ]
    },
    {
      "cell_type": "code",
      "execution_count": 299,
      "metadata": {
        "colab": {
          "base_uri": "https://localhost:8080/"
        },
        "id": "lLso8iRu2mIM",
        "outputId": "56ca2f17-dfb0-468c-95e2-534fa884a098"
      },
      "outputs": [
        {
          "data": {
            "text/plain": [
              "{'N': [], 'O': [], 'S': [], 'Y': []}"
            ]
          },
          "execution_count": 299,
          "metadata": {},
          "output_type": "execute_result"
        }
      ],
      "source": [
        "keyword_order = {char: [] for char in unique_keyword} # tipe data map\n",
        "keyword_order"
      ]
    },
    {
      "cell_type": "code",
      "execution_count": 300,
      "metadata": {
        "colab": {
          "base_uri": "https://localhost:8080/"
        },
        "id": "If-gZM_12oeE",
        "outputId": "046cae0f-8c10-4d21-8ceb-f81b8be88c0e"
      },
      "outputs": [
        {
          "data": {
            "text/plain": [
              "['S', 'O', 'N', 'Y']"
            ]
          },
          "execution_count": 300,
          "metadata": {},
          "output_type": "execute_result"
        }
      ],
      "source": [
        "original_keyword_order = [char for char in kunci] # tipe data array\n",
        "original_keyword_order"
      ]
    },
    {
      "cell_type": "code",
      "execution_count": 301,
      "metadata": {
        "colab": {
          "base_uri": "https://localhost:8080/"
        },
        "id": "uVV28hCo2rjP",
        "outputId": "bd2893ed-4d6b-403f-d708-a2316dff73b1"
      },
      "outputs": [
        {
          "data": {
            "text/plain": [
              "{'N': [1], 'O': [2], 'S': [3], 'Y': [4]}"
            ]
          },
          "execution_count": 301,
          "metadata": {},
          "output_type": "execute_result"
        }
      ],
      "source": [
        "for col, char in enumerate(unique_keyword):\n",
        "    keyword_order[char].extend([col + 1] * kunci.count(char))\n",
        "keyword_order"
      ]
    },
    {
      "cell_type": "code",
      "execution_count": 302,
      "metadata": {
        "colab": {
          "base_uri": "https://localhost:8080/"
        },
        "id": "X2wSgUYu21FR",
        "outputId": "81a5923f-a620-4979-b9eb-a51f2bcb0c98"
      },
      "outputs": [
        {
          "data": {
            "text/plain": [
              "['3', '2', '1', '4']"
            ]
          },
          "execution_count": 302,
          "metadata": {},
          "output_type": "execute_result"
        }
      ],
      "source": [
        "key_index = []\n",
        "for char in kunci: # Melakukan iterasi untuk setiap karakter dalam variabel 'kunci'.\n",
        "  orders = ', '.join(map(str, keyword_order[char])) # Mengubah data list integer menjadi bentuk string dan menggabungkan elemen-elemen list tersebut dengan tanda koma dan spasi\n",
        "  key_index.append(orders) # menambahkan nilai orders ke list key_index\n",
        "key_index"
      ]
    },
    {
      "cell_type": "code",
      "execution_count": 303,
      "metadata": {
        "colab": {
          "base_uri": "https://localhost:8080/"
        },
        "id": "p76nRSQG225l",
        "outputId": "9a0225ac-68d3-403e-9172-dfe02d0d3233"
      },
      "outputs": [
        {
          "data": {
            "text/plain": [
              "['3', '2', '1', '4']"
            ]
          },
          "execution_count": 303,
          "metadata": {},
          "output_type": "execute_result"
        }
      ],
      "source": [
        "ci = []\n",
        "for i in range(len(kunci)): # Melakukan iterasi dari 0 hingga panjang variabel 'kunci'.\n",
        "  for j in range(1):  # Melakukan iterasi hanya satu kali (j = 0) untuk setiap nilai i.\n",
        "    ci.append(key_index[i][j]) # Menambah nilai dari setiap iterasi kun[i][j] ke list ci\n",
        "ci # Memanggil list ci"
      ]
    },
    {
      "cell_type": "code",
      "execution_count": 304,
      "metadata": {
        "colab": {
          "base_uri": "https://localhost:8080/"
        },
        "id": "CW_KILFO26yD",
        "outputId": "b4fc1d3a-f61d-4ece-dd14-14a93ab7ba9c"
      },
      "outputs": [
        {
          "data": {
            "text/plain": [
              "[['', '', '', ''],\n",
              " ['', '', '', ''],\n",
              " ['', '', '', ''],\n",
              " ['', '', '', ''],\n",
              " ['', '', '', '']]"
            ]
          },
          "execution_count": 304,
          "metadata": {},
          "output_type": "execute_result"
        }
      ],
      "source": [
        "matrix = [['' for i in range(len(kunci))] for j in range(rows+1)]\n",
        "matrix"
      ]
    },
    {
      "cell_type": "code",
      "execution_count": 305,
      "metadata": {
        "colab": {
          "base_uri": "https://localhost:8080/"
        },
        "id": "Q7ikNYjA29ID",
        "outputId": "5f86cb90-c1f1-4065-e00c-0b6a4496a241"
      },
      "outputs": [
        {
          "data": {
            "text/plain": [
              "[['3', '2', '1', '4'],\n",
              " ['L', 'V', 'V', 'Q'],\n",
              " ['H', 'Z', 'N', 'G'],\n",
              " ['F', 'H', 'R', 'V'],\n",
              " ['L', '#', '#', '#']]"
            ]
          },
          "execution_count": 305,
          "metadata": {},
          "output_type": "execute_result"
        }
      ],
      "source": [
        "index = 0\n",
        "for i in range(rows+1): # Melakukan iterasi sebanyak 'rows' kali untuk membentuk baris matriks.\n",
        "  for j in range(len(kunci)): # Melakukan iterasi sebanyak karakter dalam 'kunci' untuk membentuk kolom matriks.\n",
        "    if(i == 0): # Jika ini adalah baris pertama dalam matriks:\n",
        "      matrix[i][j] = ci[j] # Mengisi elemen matriks dengan nilai dari list 'ci'.\n",
        "    else: # Jika ini bukan baris pertama dalam matriks:\n",
        "      if(index < len(plaintext)): # Jika 'index' kurang dari panjang plaintext:\n",
        "        matrix[i][j] = plaintext[index] # Mengisi elemen matriks dengan karakter dari 'plaintext'.\n",
        "        index+=1 # Nilai index bertambah 1\n",
        "      else: # Jika 'index' sudah mencapai akhir dari 'plaintext':\n",
        "        matrix[i][j] = \"#\" # Mengisi elemen matriks dengan spasi.\n",
        "matrix"
      ]
    },
    {
      "cell_type": "code",
      "execution_count": 306,
      "metadata": {
        "colab": {
          "base_uri": "https://localhost:8080/"
        },
        "id": "KFuwTEJd4H7R",
        "outputId": "0a41f882-b2cb-45a6-d3a6-6a3398546f80"
      },
      "outputs": [
        {
          "data": {
            "text/plain": [
              "['1', '2', '3', '4']"
            ]
          },
          "execution_count": 306,
          "metadata": {},
          "output_type": "execute_result"
        }
      ],
      "source": [
        "kunci_sort = sorted(set(ci)) # Melakukan sorting dan menghapus nilai duplikat pada list ci\n",
        "kunci_sort"
      ]
    },
    {
      "cell_type": "markdown",
      "metadata": {},
      "source": [
        "**ENCRYPT TEXT**"
      ]
    },
    {
      "cell_type": "code",
      "execution_count": 307,
      "metadata": {
        "id": "EBBo1KyX4Slb"
      },
      "outputs": [
        {
          "data": {
            "text/plain": [
              "['V',\n",
              " 'N',\n",
              " 'R',\n",
              " '#',\n",
              " 'V',\n",
              " 'Z',\n",
              " 'H',\n",
              " '#',\n",
              " 'L',\n",
              " 'H',\n",
              " 'F',\n",
              " 'L',\n",
              " 'Q',\n",
              " 'G',\n",
              " 'V',\n",
              " '#']"
            ]
          },
          "execution_count": 307,
          "metadata": {},
          "output_type": "execute_result"
        }
      ],
      "source": [
        "cipher = []\n",
        "ind = 0\n",
        "for i in range(len(kunci_sort)): # Melakukan iterasi untuk setiap karakter dalam 'kunci_sort'.\n",
        "  for j in range(1,rows+1): # Iterasi tiap baris dimulai dari baris kedua\n",
        "    for k in range(len(kunci)):  # Iterasi kolom\n",
        "      if(matrix[0][k] == kunci_sort[i]): # Jika karakter dalam baris pertama matriks sama dengan karakter dalam 'kunci_sort'.\n",
        "        if(matrix[j][k] == \" \"): # Jika elemen matriks pada posisi ini adalah spasi.\n",
        "          cipher.append('') # Hilangkan spasi\n",
        "        else:\n",
        "          cipher.append(matrix[j][k]) # Menambahkan karakter dari matriks ke dalam 'cipher'.\n",
        "cipher"
      ]
    },
    {
      "cell_type": "code",
      "execution_count": 308,
      "metadata": {
        "colab": {
          "base_uri": "https://localhost:8080/",
          "height": 35
        },
        "id": "tWjhaKGZ4WVI",
        "outputId": "ef8962fb-05da-46d3-fb6b-9993822f6b45"
      },
      "outputs": [
        {
          "data": {
            "text/plain": [
              "'VNR#VZH#LHFLQGV#'"
            ]
          },
          "execution_count": 308,
          "metadata": {},
          "output_type": "execute_result"
        }
      ],
      "source": [
        "cipher_text = ''.join(cipher)\n",
        "cipher_text"
      ]
    },
    {
      "cell_type": "code",
      "execution_count": 309,
      "metadata": {
        "id": "x4RdmRB95Ccl"
      },
      "outputs": [
        {
          "data": {
            "text/plain": [
              "[['', '', '', ''],\n",
              " ['', '', '', ''],\n",
              " ['', '', '', ''],\n",
              " ['', '', '', ''],\n",
              " ['', '', '', '']]"
            ]
          },
          "execution_count": 309,
          "metadata": {},
          "output_type": "execute_result"
        }
      ],
      "source": [
        "matrix = [['' for i in range(len(kunci))] for j in range(rows+1)]\n",
        "matrix"
      ]
    },
    {
      "cell_type": "code",
      "execution_count": 310,
      "metadata": {},
      "outputs": [
        {
          "data": {
            "text/plain": [
              "[['3', '2', '1', '4'],\n",
              " ['V', 'N', 'R', '#'],\n",
              " ['V', 'Z', 'H', '#'],\n",
              " ['L', 'H', 'F', 'L'],\n",
              " ['Q', 'G', 'V', '#']]"
            ]
          },
          "execution_count": 310,
          "metadata": {},
          "output_type": "execute_result"
        }
      ],
      "source": [
        "index = 0\n",
        "for i in range(rows+1): # Melakukan iterasi sebanyak 'rows' kali untuk membentuk baris matriks.\n",
        "  for j in range(len(kunci)): # Melakukan iterasi sebanyak karakter dalam 'kunci' untuk membentuk kolom matriks.\n",
        "    if(i == 0): # Jika ini adalah baris pertama dalam matriks:\n",
        "      matrix[i][j] = ci[j] # Mengisi elemen matriks dengan nilai dari list 'ci'.\n",
        "    else: # Jika ini bukan baris pertama dalam matriks:\n",
        "      if(index < len(cipher_text)): # Jika 'index' kurang dari panjang plaintext:\n",
        "        matrix[i][j] = cipher_text[index] # Mengisi elemen matriks dengan karakter dari 'plaintext'.\n",
        "        index+=1 # Nilai index bertambah 1\n",
        "      else: # Jika 'index' sudah mencapai akhir dari 'plaintext':\n",
        "        matrix[i][j] = \"#\" # Mengisi elemen matriks dengan #.\n",
        "matrix"
      ]
    },
    {
      "cell_type": "code",
      "execution_count": 311,
      "metadata": {
        "id": "BLoNGMul5ZGd"
      },
      "outputs": [],
      "source": [
        "indx = 0\n",
        "for i in range(len(kunci_sort)): # Pencocokkan dengan kunci sort\n",
        "  for j in range(1,rows+1): # Iterasi Baris\n",
        "    for k in range(len(kunci)): # Iterasi Kolom\n",
        "      if(matrix[0][k] == kunci_sort[i]):\n",
        "        if(indx < len(cipher_text)):\n",
        "          matrix[j][k] = cipher_text[indx]\n",
        "          indx+=1"
      ]
    },
    {
      "cell_type": "code",
      "execution_count": 312,
      "metadata": {
        "colab": {
          "base_uri": "https://localhost:8080/"
        },
        "id": "Z26NAJwi5Z9T",
        "outputId": "7a3b8ea4-b116-4169-e50e-0fdd6753b7f4"
      },
      "outputs": [
        {
          "data": {
            "text/plain": [
              "[['3', '2', '1', '4'],\n",
              " ['L', 'V', 'V', 'Q'],\n",
              " ['H', 'Z', 'N', 'G'],\n",
              " ['F', 'H', 'R', 'V'],\n",
              " ['L', '#', '#', '#']]"
            ]
          },
          "execution_count": 312,
          "metadata": {},
          "output_type": "execute_result"
        }
      ],
      "source": [
        "matrix"
      ]
    },
    {
      "cell_type": "markdown",
      "metadata": {
        "id": "2NKqeE8R5mhS"
      },
      "source": [
        "**DECRYPT TEXT**"
      ]
    },
    {
      "cell_type": "code",
      "execution_count": 313,
      "metadata": {
        "id": "_F9pheF85jMl"
      },
      "outputs": [],
      "source": [
        "decrypted_text = []\n",
        "for i in range(1, rows+1):\n",
        "    for j in range(len(kunci)):\n",
        "        decrypted_text.append(matrix[i][j])"
      ]
    },
    {
      "cell_type": "code",
      "execution_count": 314,
      "metadata": {
        "colab": {
          "base_uri": "https://localhost:8080/",
          "height": 35
        },
        "id": "fas9QtbC5qm-",
        "outputId": "3c6943ec-3e4e-4447-cec1-70db5c22c2dc"
      },
      "outputs": [
        {
          "data": {
            "text/plain": [
              "'lvvqhzngfhrvl'"
            ]
          },
          "execution_count": 314,
          "metadata": {},
          "output_type": "execute_result"
        }
      ],
      "source": [
        "result = \"\".join(decrypted_text)\n",
        "decrypted_sentence = result.replace(\"#\", \"\").lower()\n",
        "decrypted_sentence"
      ]
    },
    {
      "cell_type": "code",
      "execution_count": 315,
      "metadata": {
        "colab": {
          "base_uri": "https://localhost:8080/"
        },
        "id": "qo4ygYT86Zzh",
        "outputId": "dfec0ea2-009f-40cd-eb1f-76bea0b83db3"
      },
      "outputs": [
        {
          "data": {
            "text/plain": [
              "[11, 21, 21, 16, 7, 25, 13, 6, 5, 7, 17, 21, 11]"
            ]
          },
          "execution_count": 315,
          "metadata": {},
          "output_type": "execute_result"
        }
      ],
      "source": [
        "decrypt_myzsk = []\n",
        "\n",
        "for i in range(len(plainText)):\n",
        "    decrypt_myzsk.append(array_alphabet.index(decrypted_sentence[i]))\n",
        "decrypt_myzsk"
      ]
    },
    {
      "cell_type": "code",
      "execution_count": 316,
      "metadata": {
        "colab": {
          "base_uri": "https://localhost:8080/"
        },
        "id": "Fe6W7n_G57qE",
        "outputId": "beb015f8-111a-4719-cea4-3d1b8a52b532"
      },
      "outputs": [
        {
          "data": {
            "text/plain": [
              "[19, 7, 8, 18, 15, 11, 0, 8, 13, 19, 4, 23, 19]"
            ]
          },
          "execution_count": 316,
          "metadata": {},
          "output_type": "execute_result"
        }
      ],
      "source": [
        "decrypt_index = []\n",
        "\n",
        "for i in range(len(cipher_index)):\n",
        "    decrypt_index.append((decrypt_myzsk[i] - ky[i]) % 26)\n",
        "decrypt_index"
      ]
    },
    {
      "cell_type": "code",
      "execution_count": 317,
      "metadata": {
        "colab": {
          "base_uri": "https://localhost:8080/"
        },
        "id": "ODSNhcfZ6Liw",
        "outputId": "78bfbbc6-f7cc-4c72-c3e9-d92c56801f1a"
      },
      "outputs": [
        {
          "data": {
            "text/plain": [
              "['t', 'h', 'i', 's', 'p', 'l', 'a', 'i', 'n', 't', 'e', 'x', 't']"
            ]
          },
          "execution_count": 317,
          "metadata": {},
          "output_type": "execute_result"
        }
      ],
      "source": [
        "decryptText = []\n",
        "\n",
        "for i in range(len(decrypt_index)):\n",
        "    decryptText.append(array_alphabet[decrypt_index[i]])\n",
        "decryptText"
      ]
    },
    {
      "cell_type": "code",
      "execution_count": 319,
      "metadata": {
        "colab": {
          "base_uri": "https://localhost:8080/",
          "height": 35
        },
        "id": "2q5jmbX_6yMH",
        "outputId": "ed63f7c6-3b8b-46f3-929d-5014083bea33"
      },
      "outputs": [
        {
          "data": {
            "text/plain": [
              "'THISPLAINTEXT'"
            ]
          },
          "execution_count": 319,
          "metadata": {},
          "output_type": "execute_result"
        }
      ],
      "source": [
        "result = \"\".join(decryptText).upper()\n",
        "result"
      ]
    }
  ],
  "metadata": {
    "colab": {
      "provenance": []
    },
    "kernelspec": {
      "display_name": "Python 3",
      "name": "python3"
    },
    "language_info": {
      "codemirror_mode": {
        "name": "ipython",
        "version": 3
      },
      "file_extension": ".py",
      "mimetype": "text/x-python",
      "name": "python",
      "nbconvert_exporter": "python",
      "pygments_lexer": "ipython3",
      "version": "3.11.6"
    }
  },
  "nbformat": 4,
  "nbformat_minor": 0
}
